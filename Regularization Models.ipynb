{
 "cells": [
  {
   "cell_type": "code",
   "execution_count": 1,
   "id": "5950ed9d",
   "metadata": {},
   "outputs": [],
   "source": [
    "#Load Libraries\n",
    "import numpy as np\n",
    "import pandas as pd\n",
    "import matplotlib.pyplot as plt\n",
    "%matplotlib inline\n",
    "import seaborn as sns\n",
    "import warnings\n",
    "warnings.filterwarnings('ignore')"
   ]
  },
  {
   "cell_type": "code",
   "execution_count": 2,
   "id": "ca101a8e",
   "metadata": {},
   "outputs": [
    {
     "data": {
      "text/html": [
       "<div>\n",
       "<style scoped>\n",
       "    .dataframe tbody tr th:only-of-type {\n",
       "        vertical-align: middle;\n",
       "    }\n",
       "\n",
       "    .dataframe tbody tr th {\n",
       "        vertical-align: top;\n",
       "    }\n",
       "\n",
       "    .dataframe thead th {\n",
       "        text-align: right;\n",
       "    }\n",
       "</style>\n",
       "<table border=\"1\" class=\"dataframe\">\n",
       "  <thead>\n",
       "    <tr style=\"text-align: right;\">\n",
       "      <th></th>\n",
       "      <th>Length1</th>\n",
       "      <th>Length2</th>\n",
       "      <th>Length3</th>\n",
       "      <th>Height</th>\n",
       "      <th>Width</th>\n",
       "      <th>Weight</th>\n",
       "    </tr>\n",
       "  </thead>\n",
       "  <tbody>\n",
       "    <tr>\n",
       "      <th>0</th>\n",
       "      <td>23.2</td>\n",
       "      <td>25.4</td>\n",
       "      <td>30.0</td>\n",
       "      <td>11.5200</td>\n",
       "      <td>4.0200</td>\n",
       "      <td>242.0</td>\n",
       "    </tr>\n",
       "    <tr>\n",
       "      <th>1</th>\n",
       "      <td>24.0</td>\n",
       "      <td>26.3</td>\n",
       "      <td>31.2</td>\n",
       "      <td>12.4800</td>\n",
       "      <td>4.3056</td>\n",
       "      <td>290.0</td>\n",
       "    </tr>\n",
       "    <tr>\n",
       "      <th>2</th>\n",
       "      <td>23.9</td>\n",
       "      <td>26.5</td>\n",
       "      <td>31.1</td>\n",
       "      <td>12.3778</td>\n",
       "      <td>4.6961</td>\n",
       "      <td>340.0</td>\n",
       "    </tr>\n",
       "    <tr>\n",
       "      <th>3</th>\n",
       "      <td>26.3</td>\n",
       "      <td>29.0</td>\n",
       "      <td>33.5</td>\n",
       "      <td>12.7300</td>\n",
       "      <td>4.4555</td>\n",
       "      <td>363.0</td>\n",
       "    </tr>\n",
       "    <tr>\n",
       "      <th>4</th>\n",
       "      <td>26.5</td>\n",
       "      <td>29.0</td>\n",
       "      <td>34.0</td>\n",
       "      <td>12.4440</td>\n",
       "      <td>5.1340</td>\n",
       "      <td>430.0</td>\n",
       "    </tr>\n",
       "  </tbody>\n",
       "</table>\n",
       "</div>"
      ],
      "text/plain": [
       "   Length1  Length2  Length3   Height   Width  Weight\n",
       "0     23.2     25.4     30.0  11.5200  4.0200   242.0\n",
       "1     24.0     26.3     31.2  12.4800  4.3056   290.0\n",
       "2     23.9     26.5     31.1  12.3778  4.6961   340.0\n",
       "3     26.3     29.0     33.5  12.7300  4.4555   363.0\n",
       "4     26.5     29.0     34.0  12.4440  5.1340   430.0"
      ]
     },
     "execution_count": 2,
     "metadata": {},
     "output_type": "execute_result"
    }
   ],
   "source": [
    "#Load Dataset\n",
    "df1=pd.read_csv('./FishWeight.csv')\n",
    "df1.head()"
   ]
  },
  {
   "cell_type": "code",
   "execution_count": 3,
   "id": "22ff6552",
   "metadata": {},
   "outputs": [
    {
     "data": {
      "text/plain": [
       "(159, 6)"
      ]
     },
     "execution_count": 3,
     "metadata": {},
     "output_type": "execute_result"
    }
   ],
   "source": [
    "df1.shape"
   ]
  },
  {
   "cell_type": "code",
   "execution_count": 4,
   "id": "a1e457e5",
   "metadata": {},
   "outputs": [
    {
     "data": {
      "application/vnd.jupyter.widget-view+json": {
       "model_id": "f5da8a0ac3764346b37801d1ac9457e2",
       "version_major": 2,
       "version_minor": 0
      },
      "text/plain": [
       "Summarize dataset:   0%|          | 0/5 [00:00<?, ?it/s]"
      ]
     },
     "metadata": {},
     "output_type": "display_data"
    },
    {
     "data": {
      "application/vnd.jupyter.widget-view+json": {
       "model_id": "20656dd154a44a8db195eb386d8241b4",
       "version_major": 2,
       "version_minor": 0
      },
      "text/plain": [
       "Generate report structure:   0%|          | 0/1 [00:00<?, ?it/s]"
      ]
     },
     "metadata": {},
     "output_type": "display_data"
    },
    {
     "data": {
      "application/vnd.jupyter.widget-view+json": {
       "model_id": "adf052d29eff40e6bcf2a7de1317ed36",
       "version_major": 2,
       "version_minor": 0
      },
      "text/plain": [
       "Render HTML:   0%|          | 0/1 [00:00<?, ?it/s]"
      ]
     },
     "metadata": {},
     "output_type": "display_data"
    },
    {
     "data": {
      "application/vnd.jupyter.widget-view+json": {
       "model_id": "1d661d6ff4074431a9deb77f54a64bc4",
       "version_major": 2,
       "version_minor": 0
      },
      "text/plain": [
       "Export report to file:   0%|          | 0/1 [00:00<?, ?it/s]"
      ]
     },
     "metadata": {},
     "output_type": "display_data"
    },
    {
     "data": {
      "text/html": [
       "\n",
       "        <iframe\n",
       "            width=\"900\"\n",
       "            height=\"350\"\n",
       "            src=\"df1Report.html\"\n",
       "            frameborder=\"0\"\n",
       "            allowfullscreen\n",
       "            \n",
       "        ></iframe>\n",
       "        "
      ],
      "text/plain": [
       "<IPython.lib.display.IFrame at 0x2769eaaed90>"
      ]
     },
     "metadata": {},
     "output_type": "display_data"
    }
   ],
   "source": [
    "#Create Profile Report\n",
    "\n",
    "#Importing package\n",
    "import ydata_profiling as pp\n",
    "from IPython.display import IFrame\n",
    "\n",
    "df1Report = pp.ProfileReport(df1)\n",
    "df1Report.to_file('df1Report.html')\n",
    "display(IFrame('df1Report.html', width=900, height=350))"
   ]
  },
  {
   "cell_type": "code",
   "execution_count": 55,
   "id": "38ae86a7",
   "metadata": {},
   "outputs": [
    {
     "data": {
      "text/html": [
       "<div>\n",
       "<style scoped>\n",
       "    .dataframe tbody tr th:only-of-type {\n",
       "        vertical-align: middle;\n",
       "    }\n",
       "\n",
       "    .dataframe tbody tr th {\n",
       "        vertical-align: top;\n",
       "    }\n",
       "\n",
       "    .dataframe thead th {\n",
       "        text-align: right;\n",
       "    }\n",
       "</style>\n",
       "<table border=\"1\" class=\"dataframe\">\n",
       "  <thead>\n",
       "    <tr style=\"text-align: right;\">\n",
       "      <th></th>\n",
       "      <th>Length1</th>\n",
       "      <th>Length2</th>\n",
       "      <th>Length3</th>\n",
       "      <th>Height</th>\n",
       "      <th>Width</th>\n",
       "      <th>Weight</th>\n",
       "    </tr>\n",
       "  </thead>\n",
       "  <tbody>\n",
       "    <tr>\n",
       "      <th>count</th>\n",
       "      <td>159.000000</td>\n",
       "      <td>159.000000</td>\n",
       "      <td>159.000000</td>\n",
       "      <td>159.000000</td>\n",
       "      <td>159.000000</td>\n",
       "      <td>159.000000</td>\n",
       "    </tr>\n",
       "    <tr>\n",
       "      <th>mean</th>\n",
       "      <td>26.247170</td>\n",
       "      <td>28.415723</td>\n",
       "      <td>31.227044</td>\n",
       "      <td>8.970994</td>\n",
       "      <td>4.417486</td>\n",
       "      <td>398.326415</td>\n",
       "    </tr>\n",
       "    <tr>\n",
       "      <th>std</th>\n",
       "      <td>9.996441</td>\n",
       "      <td>10.716328</td>\n",
       "      <td>11.610246</td>\n",
       "      <td>4.286208</td>\n",
       "      <td>1.685804</td>\n",
       "      <td>357.978317</td>\n",
       "    </tr>\n",
       "    <tr>\n",
       "      <th>min</th>\n",
       "      <td>7.500000</td>\n",
       "      <td>8.400000</td>\n",
       "      <td>8.800000</td>\n",
       "      <td>1.728400</td>\n",
       "      <td>1.047600</td>\n",
       "      <td>0.000000</td>\n",
       "    </tr>\n",
       "    <tr>\n",
       "      <th>25%</th>\n",
       "      <td>19.050000</td>\n",
       "      <td>21.000000</td>\n",
       "      <td>23.150000</td>\n",
       "      <td>5.944800</td>\n",
       "      <td>3.385650</td>\n",
       "      <td>120.000000</td>\n",
       "    </tr>\n",
       "    <tr>\n",
       "      <th>50%</th>\n",
       "      <td>25.200000</td>\n",
       "      <td>27.300000</td>\n",
       "      <td>29.400000</td>\n",
       "      <td>7.786000</td>\n",
       "      <td>4.248500</td>\n",
       "      <td>273.000000</td>\n",
       "    </tr>\n",
       "    <tr>\n",
       "      <th>75%</th>\n",
       "      <td>32.700000</td>\n",
       "      <td>35.500000</td>\n",
       "      <td>39.650000</td>\n",
       "      <td>12.365900</td>\n",
       "      <td>5.584500</td>\n",
       "      <td>650.000000</td>\n",
       "    </tr>\n",
       "    <tr>\n",
       "      <th>max</th>\n",
       "      <td>59.000000</td>\n",
       "      <td>63.400000</td>\n",
       "      <td>68.000000</td>\n",
       "      <td>18.957000</td>\n",
       "      <td>8.142000</td>\n",
       "      <td>1650.000000</td>\n",
       "    </tr>\n",
       "  </tbody>\n",
       "</table>\n",
       "</div>"
      ],
      "text/plain": [
       "          Length1     Length2     Length3      Height       Width       Weight\n",
       "count  159.000000  159.000000  159.000000  159.000000  159.000000   159.000000\n",
       "mean    26.247170   28.415723   31.227044    8.970994    4.417486   398.326415\n",
       "std      9.996441   10.716328   11.610246    4.286208    1.685804   357.978317\n",
       "min      7.500000    8.400000    8.800000    1.728400    1.047600     0.000000\n",
       "25%     19.050000   21.000000   23.150000    5.944800    3.385650   120.000000\n",
       "50%     25.200000   27.300000   29.400000    7.786000    4.248500   273.000000\n",
       "75%     32.700000   35.500000   39.650000   12.365900    5.584500   650.000000\n",
       "max     59.000000   63.400000   68.000000   18.957000    8.142000  1650.000000"
      ]
     },
     "execution_count": 55,
     "metadata": {},
     "output_type": "execute_result"
    }
   ],
   "source": [
    "#Key Statistics\n",
    "dataset = df1.describe()\n",
    "dataset"
   ]
  },
  {
   "cell_type": "code",
   "execution_count": 5,
   "id": "acd6c27c",
   "metadata": {},
   "outputs": [
    {
     "data": {
      "text/html": [
       "<div>\n",
       "<style scoped>\n",
       "    .dataframe tbody tr th:only-of-type {\n",
       "        vertical-align: middle;\n",
       "    }\n",
       "\n",
       "    .dataframe tbody tr th {\n",
       "        vertical-align: top;\n",
       "    }\n",
       "\n",
       "    .dataframe thead th {\n",
       "        text-align: right;\n",
       "    }\n",
       "</style>\n",
       "<table border=\"1\" class=\"dataframe\">\n",
       "  <thead>\n",
       "    <tr style=\"text-align: right;\">\n",
       "      <th></th>\n",
       "      <th>Length1</th>\n",
       "      <th>Length2</th>\n",
       "      <th>Length3</th>\n",
       "      <th>Height</th>\n",
       "      <th>Width</th>\n",
       "    </tr>\n",
       "  </thead>\n",
       "  <tbody>\n",
       "    <tr>\n",
       "      <th>142</th>\n",
       "      <td>56.0</td>\n",
       "      <td>60.0</td>\n",
       "      <td>64.0</td>\n",
       "      <td>9.600</td>\n",
       "      <td>6.144</td>\n",
       "    </tr>\n",
       "    <tr>\n",
       "      <th>143</th>\n",
       "      <td>56.0</td>\n",
       "      <td>60.0</td>\n",
       "      <td>64.0</td>\n",
       "      <td>9.600</td>\n",
       "      <td>6.144</td>\n",
       "    </tr>\n",
       "    <tr>\n",
       "      <th>144</th>\n",
       "      <td>59.0</td>\n",
       "      <td>63.4</td>\n",
       "      <td>68.0</td>\n",
       "      <td>10.812</td>\n",
       "      <td>7.480</td>\n",
       "    </tr>\n",
       "  </tbody>\n",
       "</table>\n",
       "</div>"
      ],
      "text/plain": [
       "     Length1  Length2  Length3  Height  Width\n",
       "142     56.0     60.0     64.0   9.600  6.144\n",
       "143     56.0     60.0     64.0   9.600  6.144\n",
       "144     59.0     63.4     68.0  10.812  7.480"
      ]
     },
     "execution_count": 5,
     "metadata": {},
     "output_type": "execute_result"
    }
   ],
   "source": [
    "#Tukey Method\n",
    "\n",
    "# Import required libraries\n",
    "from collections import Counter\n",
    "\n",
    "# Outlier detection \n",
    "def detect_outliers(df,n,features):\n",
    "    \n",
    "    outlier_indices = []\n",
    "    \n",
    "    # iterate over features(columns)\n",
    "    for col in features:\n",
    "        # 1st quartile (25%)\n",
    "        Q1 = np.percentile(df[col], 25)\n",
    "        # 3rd quartile (75%)\n",
    "        Q3 = np.percentile(df[col],75)\n",
    "        # Interquartile range (IQR)\n",
    "        IQR = Q3 - Q1\n",
    "        \n",
    "        # outlier step\n",
    "        outlier_step = 1.5 * IQR\n",
    "        \n",
    "        # Determine a list of indices of outliers for feature col\n",
    "        outlier_list_col = df[(df[col] < Q1 - outlier_step) | (df[col] > Q3 + outlier_step )].index\n",
    "        \n",
    "        # append the found outlier indices for col to the list of outlier indices \n",
    "        outlier_indices.extend(outlier_list_col)\n",
    "        \n",
    "    # select observations containing more than 2 outliers\n",
    "    outlier_indices = Counter(outlier_indices)        \n",
    "    multiple_outliers = list( k for k, v in outlier_indices.items() if v > n )\n",
    "    \n",
    "    return multiple_outliers   \n",
    "\n",
    "# List of Outliers\n",
    "Outliers_to_drop = detect_outliers(df1.drop('Weight',axis=1),0,list(df1.drop('Weight',axis=1)))\n",
    "df1.drop('Weight',axis=1).loc[Outliers_to_drop]"
   ]
  },
  {
   "cell_type": "code",
   "execution_count": 6,
   "id": "7e1928c2",
   "metadata": {},
   "outputs": [
    {
     "name": "stdout",
     "output_type": "stream",
     "text": [
      "<class 'pandas.core.frame.DataFrame'>\n",
      "RangeIndex: 156 entries, 0 to 155\n",
      "Data columns (total 6 columns):\n",
      " #   Column   Non-Null Count  Dtype  \n",
      "---  ------   --------------  -----  \n",
      " 0   Length1  156 non-null    float64\n",
      " 1   Length2  156 non-null    float64\n",
      " 2   Length3  156 non-null    float64\n",
      " 3   Height   156 non-null    float64\n",
      " 4   Width    156 non-null    float64\n",
      " 5   Weight   156 non-null    float64\n",
      "dtypes: float64(6)\n",
      "memory usage: 7.4 KB\n"
     ]
    }
   ],
   "source": [
    "#Create New Dataset without Outliers\n",
    "good_data = df1.drop(df1.index[Outliers_to_drop]).reset_index(drop = True)\n",
    "good_data.info()"
   ]
  },
  {
   "cell_type": "code",
   "execution_count": 7,
   "id": "b8b5813d",
   "metadata": {},
   "outputs": [],
   "source": [
    "#Create Standard Model\n",
    "\n",
    "#Define x and y variable\n",
    "x = good_data.drop('Weight',axis=1).to_numpy()\n",
    "y = good_data['Weight'].to_numpy()\n",
    "\n",
    "#Create Train and Test Datasets\n",
    "from sklearn.model_selection import train_test_split\n",
    "x_train,x_test,y_train,y_test=train_test_split(x,y,test_size=0.2,random_state=100)\n",
    "\n",
    "#Scale the Data\n",
    "from sklearn.preprocessing import StandardScaler\n",
    "sc = StandardScaler()\n",
    "x_train2 = sc.fit_transform(x_train)\n",
    "x_test2 = sc.transform(x_test)\n",
    "\n",
    "#Models\n",
    "from sklearn.linear_model import LinearRegression, Lasso, Ridge, ElasticNet"
   ]
  },
  {
   "cell_type": "code",
   "execution_count": 8,
   "id": "4dc94817",
   "metadata": {},
   "outputs": [],
   "source": [
    "# Construct some pipelines \n",
    "from sklearn.pipeline import Pipeline\n",
    "from sklearn.preprocessing import StandardScaler\n",
    "\n",
    "#Create Pipeline\n",
    "\n",
    "pipeline =[]\n",
    "\n",
    "pipe_lm = Pipeline([('scl', StandardScaler()),\n",
    "                    ('clf', LinearRegression())])\n",
    "pipeline.insert(0,pipe_lm)\n",
    "\n",
    "pipe_lasso= Pipeline([('scl', StandardScaler()),\n",
    "                     ('clf', Lasso(random_state=100))])\n",
    "pipeline.insert(1,pipe_lasso)\n",
    "\n",
    "pipe_ridge= Pipeline([('scl', StandardScaler()),\n",
    "                     ('clf', Ridge(random_state=100))])\n",
    "pipeline.insert(2,pipe_ridge)\n",
    "\n",
    "pipe_elas= Pipeline([('scl', StandardScaler()),\n",
    "                     ('clf', ElasticNet(random_state=100))])\n",
    "pipeline.insert(3,pipe_elas)\n",
    "\n",
    "# Set grid search params \n",
    "\n",
    "modelpara =[]\n",
    "\n",
    "param_gridlm = {}\n",
    "modelpara.insert(0,param_gridlm)\n",
    "\n",
    "param_gridlasso = {'clf__alpha':[1e-15, 1e-10, 1e-8, 1e-4, 1e-3,1e-2, 1e-1, 1, 5, 10, 20],\n",
    "                  'clf__tol':[1e-1, 1, 5, 10, 20, 50, 100]}\n",
    "modelpara.insert(1,param_gridlasso)\n",
    "\n",
    "param_gridridge = {'clf__alpha':[1e-15, 1e-10, 1e-8, 1e-4, 1e-3,1e-2, 1e-1, 1, 5, 10, 20],\n",
    "                  'clf__tol':[1e-1, 1, 5, 10, 20, 50, 100]}\n",
    "modelpara.insert(2,param_gridridge)\n",
    "\n",
    "param_gridelas = {'clf__alpha':[1e-15, 1e-10, 1e-8, 1e-4, 1e-3,1e-2, 1e-1, 1, 5, 10, 20],\n",
    "                 'clf__tol':[1e-1, 1, 5, 10, 20, 50, 100]}\n",
    "modelpara.insert(3,param_gridelas)"
   ]
  },
  {
   "cell_type": "code",
   "execution_count": 9,
   "id": "3c9a0a63",
   "metadata": {},
   "outputs": [],
   "source": [
    "#Create Learning Curves\n",
    "\n",
    "from sklearn.model_selection import learning_curve\n",
    "\n",
    "def plot_learning_curves(model):\n",
    "    train_sizes, train_scores, test_scores = learning_curve(estimator=model,\n",
    "                                                            X=x_train, \n",
    "                                                            y=y_train,\n",
    "                                                            train_sizes=np.linspace(.1,1,10),\n",
    "                                                            scoring = 'neg_root_mean_squared_error',\n",
    "                                                            cv=10,random_state=100)\n",
    "    \n",
    "    train_mean = np.sqrt(np.mean(-train_scores, axis=1))\n",
    "    train_std = np.sqrt(np.std(-train_scores, axis=1))\n",
    "    test_mean = np.sqrt(np.mean(-test_scores, axis=1))\n",
    "    test_std = np.sqrt(np.std(-test_scores, axis=1))\n",
    "    \n",
    "    plt.plot(train_sizes, train_mean,color='blue', marker='o', \n",
    "             markersize=5, label='training accuracy')\n",
    "    plt.fill_between(train_sizes, train_mean + train_std, train_mean - train_std,\n",
    "                     alpha=0.15, color='blue')\n",
    "\n",
    "    plt.plot(train_sizes, test_mean, color='green', linestyle='--', marker='s', markersize=5,\n",
    "             label='validation accuracy')\n",
    "    plt.fill_between(train_sizes, test_mean + test_std, test_mean - test_std,\n",
    "                     alpha=0.15, color='green')\n",
    "    plt.grid()\n",
    "    plt.xlabel('Number of training samples')\n",
    "    plt.ylabel('RMSE')\n",
    "    plt.legend(loc='best')\n",
    "    plt.ylim([-1,10])\n",
    "    plt.show()"
   ]
  },
  {
   "cell_type": "code",
   "execution_count": 10,
   "id": "2c5f7b02",
   "metadata": {
    "scrolled": false
   },
   "outputs": [
    {
     "name": "stdout",
     "output_type": "stream",
     "text": [
      "Learning Curve - LM\n"
     ]
    },
    {
     "data": {
      "image/png": "[encoded data removed]",
      "text/plain": [
       "<Figure size 640x480 with 1 Axes>"
      ]
     },
     "metadata": {},
     "output_type": "display_data"
    },
    {
     "name": "stdout",
     "output_type": "stream",
     "text": [
      "Learning Curve - Lasso\n"
     ]
    },
    {
     "data": {
      "image/png": "[encoded data removed]",
      "text/plain": [
       "<Figure size 640x480 with 1 Axes>"
      ]
     },
     "metadata": {},
     "output_type": "display_data"
    },
    {
     "name": "stdout",
     "output_type": "stream",
     "text": [
      "Learning Curve - Ridge\n"
     ]
    },
    {
     "data": {
      "image/png": "[encoded data removed]",
      "text/plain": [
       "<Figure size 640x480 with 1 Axes>"
      ]
     },
     "metadata": {},
     "output_type": "display_data"
    },
    {
     "name": "stdout",
     "output_type": "stream",
     "text": [
      "Learning Curve - ElasticNet\n"
     ]
    },
    {
     "data": {
      "image/png": "[encoded data removed]",
      "text/plain": [
       "<Figure size 640x480 with 1 Axes>"
      ]
     },
     "metadata": {},
     "output_type": "display_data"
    }
   ],
   "source": [
    "#Plot Learning Curve\n",
    "\n",
    "print('Learning Curve - LM')\n",
    "plot_learning_curves(pipe_lm)\n",
    "print('Learning Curve - Lasso')\n",
    "plot_learning_curves(pipe_lasso)\n",
    "print('Learning Curve - Ridge')\n",
    "plot_learning_curves(pipe_ridge)\n",
    "print('Learning Curve - ElasticNet')\n",
    "plot_learning_curves(pipe_elas)"
   ]
  },
  {
   "cell_type": "code",
   "execution_count": 11,
   "id": "c6e7e5b9",
   "metadata": {},
   "outputs": [
    {
     "name": "stdout",
     "output_type": "stream",
     "text": [
      "Model Evaluation - RMSE\n",
      "LinearRegression 9.93\n",
      "Lasso 10.12\n",
      "Ridge 10.11\n",
      "ElasticNet 10.36\n",
      "\n",
      "\n"
     ]
    },
    {
     "data": {
      "image/png": "[encoded data removed]",
      "text/plain": [
       "<Figure size 1000x500 with 1 Axes>"
      ]
     },
     "metadata": {},
     "output_type": "display_data"
    }
   ],
   "source": [
    "#Model Analysis\n",
    "from sklearn.model_selection import RepeatedKFold\n",
    "from sklearn.model_selection import cross_val_score\n",
    "\n",
    "models=[]\n",
    "models.append(('LinearRegression',pipe_lm))\n",
    "models.append(('Lasso',pipe_lasso))\n",
    "models.append(('Ridge',pipe_ridge))\n",
    "models.append(('ElasticNet',pipe_elas))\n",
    "  \n",
    "#Model Evaluation\n",
    "results =[]\n",
    "names=[]\n",
    "scoring ='neg_root_mean_squared_error'\n",
    "print('Model Evaluation - RMSE')\n",
    "for name, model in models:\n",
    "    rkf=RepeatedKFold(n_splits=10, n_repeats=5, random_state=100)\n",
    "    cv_results = cross_val_score(model,x_train,y_train,cv=rkf,scoring=scoring)\n",
    "    results.append(np.sqrt(-cv_results))\n",
    "    names.append(name)\n",
    "    print('{} {:.2f}'.format(name,np.sqrt(-cv_results.mean())))\n",
    "print('\\n')\n",
    "\n",
    "#Boxplot View\n",
    "fig = plt.figure(figsize=(10,5))\n",
    "fig.suptitle('Boxplot View')\n",
    "ax = fig.add_subplot(111)\n",
    "sns.boxplot(data=results)\n",
    "ax.set_xticklabels(names)\n",
    "plt.ylabel('RMSE')\n",
    "plt.xlabel('Model')\n",
    "plt.show()"
   ]
  },
  {
   "cell_type": "code",
   "execution_count": 12,
   "id": "d5a6bb2f",
   "metadata": {},
   "outputs": [],
   "source": [
    "#Define Gridsearch Function\n",
    "\n",
    "from sklearn.model_selection import GridSearchCV\n",
    "from sklearn import metrics\n",
    "\n",
    "def Gridsearch_cv(model, params):\n",
    "    \n",
    "    #Cross-validation Function\n",
    "    cv2=RepeatedKFold(n_splits=10, n_repeats=5, random_state=100)\n",
    "        \n",
    "    #GridSearch CV\n",
    "    gs_clf = GridSearchCV(model, params, cv=cv2,scoring='neg_root_mean_squared_error')\n",
    "    gs_clf = gs_clf.fit(x_train, y_train)\n",
    "    model = gs_clf.best_estimator_\n",
    "    \n",
    "    # Use best model and test data for final evaluation\n",
    "    y_pred = model.predict(x_test)\n",
    "\n",
    "    #Identify Best Parameters to Optimize the Model\n",
    "    bestpara=str(gs_clf.best_params_)\n",
    "   \n",
    "    #Output Heading\n",
    "    print('\\nOptimized Model')\n",
    "    print('\\nModel Name:',str(pipeline.named_steps['clf']))\n",
    "        \n",
    "    #Output Validation Statistics\n",
    "    print('\\nBest Parameters:',bestpara)\n",
    "    \n",
    "    #Test data accuracy of model with best params    \n",
    "    print('\\nIntercept: {:.2f}'.format(float(gs_clf.best_estimator_.named_steps['clf'].intercept_)))\n",
    "    print('\\nModel coefficients: ')   \n",
    "    for name, score in zip(list(good_data.drop('Weight',axis=1)),\n",
    "                           gs_clf.best_estimator_.named_steps['clf'].coef_):\n",
    "         print(name, round(score,2)) \n",
    "    \n",
    "    #Print R2\n",
    "    print('\\nR2: {:0.2f}'.format(metrics.r2_score(y_test,y_pred)))\n",
    "    adjusted_r_squared2 = 1-(1-metrics.r2_score(y_test,y_pred))*(len(y)-1)/(len(y)-x.shape[1]-1)\n",
    "    print('Adj_R2: {:0.2f}'.format(adjusted_r_squared2))        \n",
    "      \n",
    "    #Print MSE and RMSE\n",
    "    print('\\nMean Absolute Error: {:.2f}'.format(metrics.mean_absolute_error(y_test, y_pred)))  \n",
    "    print('Mean Squared Error: {:.2f}'.format(metrics.mean_squared_error(y_test, y_pred)))  \n",
    "    print('Root Mean Squared Error: {:.2f}'.format(np.sqrt(metrics.mean_squared_error(y_test, y_pred)))) "
   ]
  },
  {
   "cell_type": "code",
   "execution_count": 13,
   "id": "d0de91a9",
   "metadata": {},
   "outputs": [
    {
     "name": "stdout",
     "output_type": "stream",
     "text": [
      "\n",
      "Optimized Model\n",
      "\n",
      "Model Name: LinearRegression()\n",
      "\n",
      "Best Parameters: {}\n",
      "\n",
      "Intercept: 355.32\n",
      "\n",
      "Model coefficients: \n",
      "Length1 1125.77\n",
      "Length2 -725.26\n",
      "Length3 -294.06\n",
      "Height 131.79\n",
      "Width 88.1\n",
      "\n",
      "R2: 0.90\n",
      "Adj_R2: 0.89\n",
      "\n",
      "Mean Absolute Error: 96.65\n",
      "Mean Squared Error: 13526.90\n",
      "Root Mean Squared Error: 116.31\n",
      "\n",
      "Optimized Model\n",
      "\n",
      "Model Name: Lasso(random_state=100)\n",
      "\n",
      "Best Parameters: {'clf__alpha': 10, 'clf__tol': 0.1}\n",
      "\n",
      "Intercept: 355.32\n",
      "\n",
      "Model coefficients: \n",
      "Length1 186.49\n",
      "Length2 0.6\n",
      "Length3 1.92\n",
      "Height 90.46\n",
      "Width 30.57\n",
      "\n",
      "R2: 0.87\n",
      "Adj_R2: 0.87\n",
      "\n",
      "Mean Absolute Error: 105.93\n",
      "Mean Squared Error: 16321.08\n",
      "Root Mean Squared Error: 127.75\n",
      "\n",
      "Optimized Model\n",
      "\n",
      "Model Name: Ridge(random_state=100)\n",
      "\n",
      "Best Parameters: {'clf__alpha': 0.01, 'clf__tol': 0.1}\n",
      "\n",
      "Intercept: 355.32\n",
      "\n",
      "Model coefficients: \n",
      "Length1 954.88\n",
      "Length2 -547.49\n",
      "Length3 -297.24\n",
      "Height 128.11\n",
      "Width 86.62\n",
      "\n",
      "R2: 0.90\n",
      "Adj_R2: 0.89\n",
      "\n",
      "Mean Absolute Error: 96.46\n",
      "Mean Squared Error: 13321.32\n",
      "Root Mean Squared Error: 115.42\n",
      "\n",
      "Optimized Model\n",
      "\n",
      "Model Name: ElasticNet(random_state=100)\n",
      "\n",
      "Best Parameters: {'clf__alpha': 0.1, 'clf__tol': 0.1}\n",
      "\n",
      "Intercept: 355.32\n",
      "\n",
      "Model coefficients: \n",
      "Length1 114.76\n",
      "Length2 46.82\n",
      "Length3 5.26\n",
      "Height 79.46\n",
      "Width 65.22\n",
      "\n",
      "R2: 0.89\n",
      "Adj_R2: 0.88\n",
      "\n",
      "Mean Absolute Error: 101.95\n",
      "Mean Squared Error: 14665.37\n",
      "Root Mean Squared Error: 121.10\n"
     ]
    }
   ],
   "source": [
    "#Run Models\n",
    "for pipeline, modelpara in zip(pipeline,modelpara):\n",
    "    Gridsearch_cv(pipeline,modelpara)"
   ]
  },
  {
   "cell_type": "code",
   "execution_count": null,
   "id": "de5f9aa2",
   "metadata": {},
   "outputs": [],
   "source": []
  }
 ],
 "metadata": {
  "kernelspec": {
   "display_name": "Python 3 (ipykernel)",
   "language": "python",
   "name": "python3"
  },
  "language_info": {
   "codemirror_mode": {
    "name": "ipython",
    "version": 3
   },
   "file_extension": ".py",
   "mimetype": "text/x-python",
   "name": "python",
   "nbconvert_exporter": "python",
   "pygments_lexer": "ipython3",
   "version": "3.11.4"
  }
 },
 "nbformat": 4,
 "nbformat_minor": 5
}
